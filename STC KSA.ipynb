{
 "cells": [
  {
   "cell_type": "code",
   "execution_count": null,
   "metadata": {},
   "outputs": [],
   "source": [
    "\n",
    "import plotly.plotly as py\n",
    "import pandas as pd\n",
    "import plotly.graph_objs as go\n",
    "go.Scattergeo"
   ]
  },
  {
   "cell_type": "code",
   "execution_count": null,
   "metadata": {},
   "outputs": [],
   "source": [
    "df=pd.read_csv('STC.csv')"
   ]
  },
  {
   "cell_type": "code",
   "execution_count": null,
   "metadata": {},
   "outputs": [],
   "source": [
    "df.head(2)"
   ]
  },
  {
   "cell_type": "code",
   "execution_count": null,
   "metadata": {},
   "outputs": [],
   "source": [
    "import pandas as pd\n",
    "import plotly.offline as py_offline\n",
    "import plotly.graph_objs as go\n",
    "py_offline.init_notebook_mode()\n",
    "import pandas as pd\n",
    "cases = []\n",
    "cases.append(go.Scattergeo(\n",
    "    lon = df['longitude'],\n",
    "    lat = df['latitude'],\n",
    "    text = df['SAM']\n",
    ") )\n",
    "\n",
    "layout = go.Layout(\n",
    "    title=\"Saudi Arabia\",\n",
    "    geo = dict(\n",
    "        resolution = 50,\n",
    "        scope = 'asia',\n",
    "        showframe = False,\n",
    "        showcoastlines = True,\n",
    "        showland = True,\n",
    "        landcolor = \"rgb(229, 229, 229)\",\n",
    "        countrycolor = \"rgb(255, 255, 255)\" ,\n",
    "        coastlinecolor = \"rgb(255, 255, 255)\",\n",
    "        projection = dict(\n",
    "            type = 'mercator',\n",
    "            scale=3\n",
    "        ),\n",
    "        center = dict(\n",
    "            lon=46,\n",
    "            lat=24\n",
    "        )\n",
    "    )\n",
    ")\n",
    "\n",
    "fig = go.Figure(layout=layout, data=cases)\n",
    "py_offline.iplot(fig, validate=False, filename='Saudi Arabia')"
   ]
  }
 ],
 "metadata": {
  "kernelspec": {
   "display_name": "Python 3",
   "language": "python",
   "name": "python3"
  },
  "language_info": {
   "codemirror_mode": {
    "name": "ipython",
    "version": 3
   },
   "file_extension": ".py",
   "mimetype": "text/x-python",
   "name": "python",
   "nbconvert_exporter": "python",
   "pygments_lexer": "ipython3",
   "version": "3.6.5"
  }
 },
 "nbformat": 4,
 "nbformat_minor": 2
}
